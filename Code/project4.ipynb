{
 "cells": [
  {
   "cell_type": "markdown",
   "id": "c48ca447",
   "metadata": {
    "toc": true
   },
   "source": [
    "<h1>Table of Contents<span class=\"tocSkip\"></span></h1>\n",
    "<div class=\"toc\"><ul class=\"toc-item\"><li><span><a href=\"#Импорт-pyspark-и-библиотек.-Создание-spark-сессии\" data-toc-modified-id=\"Импорт-pyspark-и-библиотек.-Создание-spark-сессии-1\"><span class=\"toc-item-num\">1&nbsp;&nbsp;</span>Импорт pyspark и библиотек. Создание spark сессии</a></span></li><li><span><a href=\"#Витрина-corporate_payments\" data-toc-modified-id=\"Витрина-corporate_payments-2\"><span class=\"toc-item-num\">2&nbsp;&nbsp;</span>Витрина corporate_payments</a></span><ul class=\"toc-item\"><li><span><a href=\"#Считывание-витрины-corporate_payments-в-датафрейм\" data-toc-modified-id=\"Считывание-витрины-corporate_payments-в-датафрейм-2.1\"><span class=\"toc-item-num\">2.1&nbsp;&nbsp;</span>Считывание витрины corporate_payments в датафрейм</a></span></li><li><span><a href=\"#Запись-витрины-corporate_payments-в-parquet-файлы-с-партицированием-по-дате-операции\" data-toc-modified-id=\"Запись-витрины-corporate_payments-в-parquet-файлы-с-партицированием-по-дате-операции-2.2\"><span class=\"toc-item-num\">2.2&nbsp;&nbsp;</span>Запись витрины corporate_payments в parquet файлы с партицированием по дате операции</a></span></li><li><span><a href=\"#Вывод-витрины-corporate_payments-на-2020-11-01-из-файла-parquet\" data-toc-modified-id=\"Вывод-витрины-corporate_payments-на-2020-11-01-из-файла-parquet-2.3\"><span class=\"toc-item-num\">2.3&nbsp;&nbsp;</span>Вывод витрины corporate_payments на 2020-11-01 из файла parquet</a></span></li></ul></li><li><span><a href=\"#Витрина-corporate_account\" data-toc-modified-id=\"Витрина-corporate_account-3\"><span class=\"toc-item-num\">3&nbsp;&nbsp;</span>Витрина corporate_account</a></span></li><li><span><a href=\"#Витрина-corporate_info\" data-toc-modified-id=\"Витрина-corporate_info-4\"><span class=\"toc-item-num\">4&nbsp;&nbsp;</span>Витрина corporate_info</a></span></li></ul></div>"
   ]
  },
  {
   "cell_type": "markdown",
   "id": "4ce651b4",
   "metadata": {},
   "source": [
    "# Импорт pyspark и библиотек. Создание spark сессии"
   ]
  },
  {
   "cell_type": "code",
   "execution_count": 1,
   "id": "6e91e20a",
   "metadata": {},
   "outputs": [],
   "source": [
    "import findspark\n",
    "findspark.init('/opt/spark-3.3.1')\n",
    "import pyspark\n",
    "sc = pyspark.SparkContext()"
   ]
  },
  {
   "cell_type": "code",
   "execution_count": 2,
   "id": "582c1a31",
   "metadata": {},
   "outputs": [],
   "source": [
    "from pyspark.sql import SparkSession\n",
    "from pyspark.sql import Row\n",
    "from pyspark.sql import functions as F "
   ]
  },
  {
   "cell_type": "code",
   "execution_count": 3,
   "id": "17211872",
   "metadata": {},
   "outputs": [],
   "source": [
    "spark = SparkSession \\\n",
    "    .builder \\\n",
    "    .appName(\"Python Spark SQL basic example\") \\\n",
    "    .config(\"spark.jars\", \"/opt/spark-3.3.1/jars/postgresql-42.5.1.jar\") \\\n",
    "    .config(\"spark.driver.bindAddress\",\"localhost\") \\\n",
    "    .config(\"spark.ui.port\",\"5432\") \\\n",
    "    .config(\"parquet.encoding\",\"UTF-8\") \\\n",
    "    .getOrCreate()"
   ]
  },
  {
   "cell_type": "markdown",
   "id": "2800e337",
   "metadata": {},
   "source": [
    "# Витрина corporate_payments"
   ]
  },
  {
   "cell_type": "markdown",
   "id": "55aa2fa2",
   "metadata": {},
   "source": [
    "## Считывание витрины corporate_payments в датафрейм "
   ]
  },
  {
   "cell_type": "code",
   "execution_count": 4,
   "id": "f4b10f88",
   "metadata": {},
   "outputs": [],
   "source": [
    "df_corporate_payments = spark.read.format(\"jdbc\")\\\n",
    ".option(\"url\", \"jdbc:postgresql://localhost:5432/de_project4\") \\\n",
    ".option(\"driver\", \"org.postgresql.Driver\")\\\n",
    ".option(\"user\", \"postgres\").option(\"password\", \"1\")\\\n",
    ".option(\"query\", \"select * from corporate_payments\")\\\n",
    ".load()"
   ]
  },
  {
   "cell_type": "code",
   "execution_count": 5,
   "id": "30af84af",
   "metadata": {},
   "outputs": [
    {
     "name": "stdout",
     "output_type": "stream",
     "text": [
      "root\n",
      " |-- AccountId: integer (nullable = true)\n",
      " |-- ClientId: integer (nullable = true)\n",
      " |-- PaymentAmt: decimal(38,18) (nullable = true)\n",
      " |-- EnrollementAmt: decimal(38,18) (nullable = true)\n",
      " |-- TaxAmt: decimal(38,18) (nullable = true)\n",
      " |-- ClearAmt: decimal(38,18) (nullable = true)\n",
      " |-- CarsAmt: decimal(38,18) (nullable = true)\n",
      " |-- FoodAmt: decimal(38,18) (nullable = true)\n",
      " |-- CutoffDt: date (nullable = true)\n",
      "\n"
     ]
    }
   ],
   "source": [
    "df_corporate_payments.printSchema()"
   ]
  },
  {
   "cell_type": "code",
   "execution_count": 6,
   "id": "aa5a00f7",
   "metadata": {},
   "outputs": [],
   "source": [
    "df_corporate_payments=df_corporate_payments.withColumn(\"PaymentAmt\",F.round(\"PaymentAmt\",2))\n",
    "df_corporate_payments=df_corporate_payments.withColumn(\"EnrollementAmt\",F.round(\"EnrollementAmt\",2))\n",
    "df_corporate_payments=df_corporate_payments.withColumn(\"TaxAmt\",F.round(\"TaxAmt\",2))\n",
    "df_corporate_payments=df_corporate_payments.withColumn(\"ClearAmt\",F.round(\"ClearAmt\",2))\n",
    "df_corporate_payments=df_corporate_payments.withColumn(\"CarsAmt\",F.round(\"CarsAmt\",2))\n",
    "df_corporate_payments=df_corporate_payments.withColumn(\"FoodAmt\",F.round(\"FoodAmt\",2))"
   ]
  },
  {
   "cell_type": "code",
   "execution_count": 7,
   "id": "c713b123",
   "metadata": {},
   "outputs": [
    {
     "name": "stdout",
     "output_type": "stream",
     "text": [
      "+---------+--------+----------+--------------+----------+----------+----------+---------+----------+\n",
      "|AccountId|ClientId|PaymentAmt|EnrollementAmt|    TaxAmt|  ClearAmt|   CarsAmt|  FoodAmt|  CutoffDt|\n",
      "+---------+--------+----------+--------------+----------+----------+----------+---------+----------+\n",
      "|        1|       1|1239646.48|    1697988.80|      null|      null|1239646.48|722086.05|2020-11-02|\n",
      "|        2|       2| 856510.75|    1504469.43|      null|      null| 856510.75|     null|2020-11-03|\n",
      "|        3|       3|1354023.20|    1110291.49|1354023.20|      null|1354023.20|561642.09|2020-11-04|\n",
      "|        4|       4|1239725.91|    1698092.00|1239725.91|      null|1239725.91|     null|2020-11-01|\n",
      "|        5|       5| 856586.87|    1504548.86|      null|      null| 856586.87|401198.14|2020-11-02|\n",
      "|        6|       6|1354126.40|    1110367.61|1354126.40|1110367.61|1354126.40|     null|2020-11-03|\n",
      "|        7|       7|1239805.34|    1698195.20|1239805.34|      null|1239805.34|240754.18|2020-11-04|\n",
      "|        8|       8| 856662.98|    1504628.29| 856662.98|1504628.29| 856662.98|     null|2020-11-01|\n",
      "|        9|       9|1354229.60|    1110443.73|1354229.60|      null|1354229.60| 80310.23|2020-11-02|\n",
      "|       10|      10|1239884.77|    1698298.40|      null|      null|1239884.77|722158.25|2020-11-03|\n",
      "|       11|      11| 856739.10|    1504707.72|      null|      null| 856739.10|     null|2020-11-04|\n",
      "|       12|      12|1354332.80|    1110519.85|1354332.80|      null|1354332.80|561714.30|2020-11-01|\n",
      "|       13|      13|1239964.20|    1698401.60|1239964.20|      null|1239964.20|     null|2020-11-02|\n",
      "|       14|      14| 856815.22|    1504787.16|      null|      null| 856815.22|401270.35|2020-11-03|\n",
      "|       15|      15|1354436.00|    1110595.97|1354436.00|      null|1354436.00|     null|2020-11-04|\n",
      "|       16|      16|1240043.63|    1698504.80|1240043.63|      null|1240043.63|240826.39|2020-11-01|\n",
      "|       17|      17| 856891.34|    1504866.59|      null|      null| 856891.34|     null|2020-11-02|\n",
      "|       18|      18|1354539.20|    1110672.09|      null|1110672.09|1354539.20| 80382.44|2020-11-03|\n",
      "|       19|      19|1240123.06|    1698608.00|      null|1698608.00|1240123.06|722230.46|2020-11-04|\n",
      "|       20|      20| 856967.46|    1504946.02|      null|      null| 856967.46|     null|2020-11-01|\n",
      "+---------+--------+----------+--------------+----------+----------+----------+---------+----------+\n",
      "only showing top 20 rows\n",
      "\n"
     ]
    }
   ],
   "source": [
    "df_corporate_payments.show()"
   ]
  },
  {
   "cell_type": "code",
   "execution_count": 8,
   "id": "d8ead41c",
   "metadata": {},
   "outputs": [
    {
     "name": "stdout",
     "output_type": "stream",
     "text": [
      "root\n",
      " |-- AccountId: integer (nullable = true)\n",
      " |-- ClientId: integer (nullable = true)\n",
      " |-- PaymentAmt: decimal(23,2) (nullable = true)\n",
      " |-- EnrollementAmt: decimal(23,2) (nullable = true)\n",
      " |-- TaxAmt: decimal(23,2) (nullable = true)\n",
      " |-- ClearAmt: decimal(23,2) (nullable = true)\n",
      " |-- CarsAmt: decimal(23,2) (nullable = true)\n",
      " |-- FoodAmt: decimal(23,2) (nullable = true)\n",
      " |-- CutoffDt: date (nullable = true)\n",
      "\n"
     ]
    }
   ],
   "source": [
    "df_corporate_payments.printSchema()"
   ]
  },
  {
   "cell_type": "markdown",
   "id": "4f02fcc1",
   "metadata": {},
   "source": [
    "## Запись витрины corporate_payments в parquet файлы с партицированием по дате операции"
   ]
  },
  {
   "cell_type": "code",
   "execution_count": 9,
   "id": "9e2c6d2c",
   "metadata": {},
   "outputs": [],
   "source": [
    "df_corporate_payments.write.option(\"encoding\",\"UTF-8\").mode(\"overwrite\").partitionBy(\"CutoffDt\").parquet(\"corporate_payments\")"
   ]
  },
  {
   "cell_type": "markdown",
   "id": "595df5cb",
   "metadata": {},
   "source": [
    "## Вывод витрины corporate_payments на 2020-11-01 из файла parquet"
   ]
  },
  {
   "cell_type": "code",
   "execution_count": 22,
   "id": "e4188752",
   "metadata": {},
   "outputs": [],
   "source": [
    "df_corporate_payments_20201101=spark.read.parquet(\"corporate_payments/CutoffDt=2020-11-01\")"
   ]
  },
  {
   "cell_type": "code",
   "execution_count": 23,
   "id": "81ab46ec",
   "metadata": {},
   "outputs": [
    {
     "name": "stdout",
     "output_type": "stream",
     "text": [
      "+---------+--------+----------+--------------+----------+----------+----------+----------+\n",
      "|AccountId|ClientId|PaymentAmt|EnrollementAmt|    TaxAmt|  ClearAmt|   CarsAmt|   FoodAmt|\n",
      "+---------+--------+----------+--------------+----------+----------+----------+----------+\n",
      "|     5003|    5003| 983401.12|    2493467.77| 983401.12| 856586.87| 983401.12| 481420.12|\n",
      "|     5004|    5004|1526057.60|    2591308.27|1526057.60|1354126.40|1526057.60| 120385.12|\n",
      "|     5007|    5007|1526160.80|    2591487.58|1526160.80|1354229.60|1526160.80| 762321.39|\n",
      "|     5008|    5008|1372216.82|    3110114.37|1372216.82|3110114.37|1372216.82|      null|\n",
      "|     5011|    5011|1372296.25|    3110297.00|      null|      null|1372296.25| 280901.28|\n",
      "|     5012|    5012| 983629.48|    2493934.42|      null|      null| 983629.48| 481492.32|\n",
      "|     5015|    5015| 983705.60|    2494089.97| 983705.60|      null| 983705.60|      null|\n",
      "|     5016|    5016|1526470.40|    2592025.54|1526470.40|      null|1526470.40| 762465.81|\n",
      "|     5019|    5019|1526573.60|    2592204.86|1526573.60|1237562.46|1526573.60| 642008.48|\n",
      "|     5020|    5020|1372534.54|    3110844.89|1372534.54|1870642.40|1372534.54| 280973.48|\n",
      "|     5023|    5023|1372613.97|    3111027.53|1372613.97|3111027.53|1372613.97|1083498.13|\n",
      "|     5024|    5024| 983933.95|    2494556.62| 983933.95|      null| 983933.95|      null|\n",
      "|     5027|    5027| 984010.07|    2494712.17| 984010.07| 857195.82| 984010.07| 441722.31|\n",
      "|     5028|    5028|1526883.20|    2592742.82|      null|      null|1526883.20| 642080.69|\n",
      "|     5031|    5031|1526986.40|    2592922.14|      null|      null|1526986.40| 120601.74|\n",
      "|     5032|    5032|1372852.26|    3111575.42|      null|      null|1372852.26|1083642.54|\n",
      "|     5035|    5035|1372931.70|    3111758.05|      null|      null|1372931.70|      null|\n",
      "|     5036|    5036| 984238.43|    2495178.82|      null|      null| 984238.43| 441866.73|\n",
      "|     5039|    5039| 984314.55|    2495334.37|      null|1637834.08| 984314.55| 481708.94|\n",
      "|     5040|    5040|1527296.00|    2593460.09|1527296.00|1355364.80|1527296.00| 120673.94|\n",
      "+---------+--------+----------+--------------+----------+----------+----------+----------+\n",
      "only showing top 20 rows\n",
      "\n"
     ]
    }
   ],
   "source": [
    "df_corporate_payments_20201101.show()"
   ]
  },
  {
   "cell_type": "markdown",
   "id": "eb477459",
   "metadata": {},
   "source": [
    "# Витрина corporate_account"
   ]
  },
  {
   "cell_type": "code",
   "execution_count": 12,
   "id": "b7e77489",
   "metadata": {},
   "outputs": [],
   "source": [
    "df_corporate_account = spark.read.format(\"jdbc\")\\\n",
    ".option(\"url\", \"jdbc:postgresql://localhost:5432/de_project4\") \\\n",
    ".option(\"driver\", \"org.postgresql.Driver\")\\\n",
    ".option(\"user\", \"postgres\").option(\"password\", \"1\")\\\n",
    ".option(\"query\", \"select * from corporate_account\")\\\n",
    ".load()"
   ]
  },
  {
   "cell_type": "code",
   "execution_count": 13,
   "id": "01780cce",
   "metadata": {},
   "outputs": [
    {
     "name": "stdout",
     "output_type": "stream",
     "text": [
      "root\n",
      " |-- AccountId: integer (nullable = true)\n",
      " |-- AccountNum: string (nullable = true)\n",
      " |-- DateOpen: date (nullable = true)\n",
      " |-- ClientId: integer (nullable = true)\n",
      " |-- ClientName: string (nullable = true)\n",
      " |-- TotalAmt: decimal(38,18) (nullable = true)\n",
      " |-- CutoffDt: date (nullable = true)\n",
      "\n"
     ]
    }
   ],
   "source": [
    "df_corporate_account.printSchema()"
   ]
  },
  {
   "cell_type": "code",
   "execution_count": 14,
   "id": "64a98893",
   "metadata": {},
   "outputs": [
    {
     "name": "stdout",
     "output_type": "stream",
     "text": [
      "root\n",
      " |-- AccountId: integer (nullable = true)\n",
      " |-- AccountNum: string (nullable = true)\n",
      " |-- DateOpen: date (nullable = true)\n",
      " |-- ClientId: integer (nullable = true)\n",
      " |-- ClientName: string (nullable = true)\n",
      " |-- TotalAmt: decimal(23,2) (nullable = true)\n",
      " |-- CutoffDt: date (nullable = true)\n",
      "\n"
     ]
    }
   ],
   "source": [
    "df_corporate_account=df_corporate_account.withColumn(\"TotalAmt\",F.round(\"TotalAmt\",2))\n",
    "df_corporate_account.printSchema()"
   ]
  },
  {
   "cell_type": "code",
   "execution_count": 15,
   "id": "c1a4477c",
   "metadata": {},
   "outputs": [],
   "source": [
    "df_corporate_account.write.option(\"encoding\",\"UTF-8\").mode(\"overwrite\").partitionBy(\"CutoffDt\").parquet(\"corporate_account\")"
   ]
  },
  {
   "cell_type": "code",
   "execution_count": 16,
   "id": "87e60f58",
   "metadata": {},
   "outputs": [
    {
     "name": "stdout",
     "output_type": "stream",
     "text": [
      "+---------+--------------------+----------+--------+-----------+----------+\n",
      "|AccountId|          AccountNum|  DateOpen|ClientId| ClientName|  TotalAmt|\n",
      "+---------+--------------------+----------+--------+-----------+----------+\n",
      "|     5003|40802810520270000061|2020-11-03|    5003|Клиент 5003|3476868.89|\n",
      "|     5004|40702810623050000084|2020-11-04|    5004|Клиент 5004|4117365.87|\n",
      "|     5007|40702810320640000569|2020-11-03|    5007|Клиент 5007|4117648.38|\n",
      "|     5008|40802810610450000337|2020-11-04|    5008|Клиент 5008|4482331.19|\n",
      "|     5011|40702810414030000268|2020-11-03|    5011|Клиент 5011|4482593.25|\n",
      "|     5012|40802810509560000364|2020-11-04|    5012|Клиент 5012|3477563.90|\n",
      "|     5015|40802810107250000129|2020-11-03|    5015|Клиент 5015|3477795.57|\n",
      "|     5016|40802810220110000260|2020-11-04|    5016|Клиент 5016|4118495.94|\n",
      "|     5019|40802810222180000263|2020-11-03|    5019|Клиент 5019|4118778.46|\n",
      "|     5020|40702810144410000147|2020-11-04|    5020|Клиент 5020|4483379.43|\n",
      "|     5023|40802810113310000074|2020-11-03|    5023|Клиент 5023|4483641.50|\n",
      "|     5024|40702810424210000504|2020-11-04|    5024|Клиент 5024|3478490.57|\n",
      "|     5027|40802810510180000344|2020-11-03|    5027|Клиент 5027|3478722.24|\n",
      "|     5028|40702810239000000376|2020-11-04|    5028|Клиент 5028|4119626.02|\n",
      "|     5031|40702810135030000217|2020-11-03|    5031|Клиент 5031|4119908.54|\n",
      "|     5032|40702810323020000204|2020-11-04|    5032|Клиент 5032|4484427.68|\n",
      "|     5035|40702810313680000096|2020-11-03|    5035|Клиент 5035|4484689.75|\n",
      "|     5036|40802810211140000139|2020-11-04|    5036|Клиент 5036|3479417.25|\n",
      "|     5039|40802810324210000371|2020-11-03|    5039|Клиент 5039|3479648.92|\n",
      "|     5040|40802810436260000082|2020-11-04|    5040|Клиент 5040|4120756.09|\n",
      "+---------+--------------------+----------+--------+-----------+----------+\n",
      "only showing top 20 rows\n",
      "\n"
     ]
    }
   ],
   "source": [
    "df_corporate_account_20201101=spark.read.parquet(\"corporate_account/CutoffDt=2020-11-01\")\n",
    "df_corporate_account_20201101.show()"
   ]
  },
  {
   "cell_type": "markdown",
   "id": "f579a4e5",
   "metadata": {},
   "source": [
    "# Витрина corporate_info"
   ]
  },
  {
   "cell_type": "code",
   "execution_count": 17,
   "id": "c8cc2a3c",
   "metadata": {},
   "outputs": [],
   "source": [
    "df_corporate_info = spark.read.format(\"jdbc\")\\\n",
    ".option(\"url\", \"jdbc:postgresql://localhost:5432/de_project4\") \\\n",
    ".option(\"driver\", \"org.postgresql.Driver\")\\\n",
    ".option(\"user\", \"postgres\").option(\"password\", \"1\")\\\n",
    ".option(\"query\", \"select * from corporate_info\")\\\n",
    ".load()"
   ]
  },
  {
   "cell_type": "code",
   "execution_count": 18,
   "id": "848b959f",
   "metadata": {},
   "outputs": [
    {
     "name": "stdout",
     "output_type": "stream",
     "text": [
      "root\n",
      " |-- clientid: integer (nullable = true)\n",
      " |-- clientname: string (nullable = true)\n",
      " |-- type: string (nullable = true)\n",
      " |-- form: string (nullable = true)\n",
      " |-- registerdate: date (nullable = true)\n",
      " |-- TotalAmt: decimal(38,18) (nullable = true)\n",
      " |-- CutoffDt: date (nullable = true)\n",
      "\n"
     ]
    }
   ],
   "source": [
    "df_corporate_info.printSchema()"
   ]
  },
  {
   "cell_type": "code",
   "execution_count": 19,
   "id": "c845b74d",
   "metadata": {},
   "outputs": [
    {
     "name": "stdout",
     "output_type": "stream",
     "text": [
      "root\n",
      " |-- clientid: integer (nullable = true)\n",
      " |-- clientname: string (nullable = true)\n",
      " |-- type: string (nullable = true)\n",
      " |-- form: string (nullable = true)\n",
      " |-- registerdate: date (nullable = true)\n",
      " |-- TotalAmt: decimal(23,2) (nullable = true)\n",
      " |-- CutoffDt: date (nullable = true)\n",
      "\n"
     ]
    }
   ],
   "source": [
    "df_corporate_info=df_corporate_info.withColumn(\"TotalAmt\",F.round(\"TotalAmt\",2))\n",
    "df_corporate_info.printSchema()"
   ]
  },
  {
   "cell_type": "code",
   "execution_count": 20,
   "id": "9975620f",
   "metadata": {},
   "outputs": [],
   "source": [
    "df_corporate_info.write.option(\"encoding\",\"UTF-8\").mode(\"overwrite\").partitionBy(\"CutoffDt\").parquet(\"corporate_info\")"
   ]
  },
  {
   "cell_type": "code",
   "execution_count": 21,
   "id": "a3c82f8c",
   "metadata": {},
   "outputs": [
    {
     "name": "stdout",
     "output_type": "stream",
     "text": [
      "+---------+--------------------+----------+--------+-----------+----------+\n",
      "|AccountId|          AccountNum|  DateOpen|ClientId| ClientName|  TotalAmt|\n",
      "+---------+--------------------+----------+--------+-----------+----------+\n",
      "|     5003|40802810520270000061|2020-11-03|    5003|Клиент 5003|3476868.89|\n",
      "|     5004|40702810623050000084|2020-11-04|    5004|Клиент 5004|4117365.87|\n",
      "|     5007|40702810320640000569|2020-11-03|    5007|Клиент 5007|4117648.38|\n",
      "|     5008|40802810610450000337|2020-11-04|    5008|Клиент 5008|4482331.19|\n",
      "|     5011|40702810414030000268|2020-11-03|    5011|Клиент 5011|4482593.25|\n",
      "|     5012|40802810509560000364|2020-11-04|    5012|Клиент 5012|3477563.90|\n",
      "|     5015|40802810107250000129|2020-11-03|    5015|Клиент 5015|3477795.57|\n",
      "|     5016|40802810220110000260|2020-11-04|    5016|Клиент 5016|4118495.94|\n",
      "|     5019|40802810222180000263|2020-11-03|    5019|Клиент 5019|4118778.46|\n",
      "|     5020|40702810144410000147|2020-11-04|    5020|Клиент 5020|4483379.43|\n",
      "|     5023|40802810113310000074|2020-11-03|    5023|Клиент 5023|4483641.50|\n",
      "|     5024|40702810424210000504|2020-11-04|    5024|Клиент 5024|3478490.57|\n",
      "|     5027|40802810510180000344|2020-11-03|    5027|Клиент 5027|3478722.24|\n",
      "|     5028|40702810239000000376|2020-11-04|    5028|Клиент 5028|4119626.02|\n",
      "|     5031|40702810135030000217|2020-11-03|    5031|Клиент 5031|4119908.54|\n",
      "|     5032|40702810323020000204|2020-11-04|    5032|Клиент 5032|4484427.68|\n",
      "|     5035|40702810313680000096|2020-11-03|    5035|Клиент 5035|4484689.75|\n",
      "|     5036|40802810211140000139|2020-11-04|    5036|Клиент 5036|3479417.25|\n",
      "|     5039|40802810324210000371|2020-11-03|    5039|Клиент 5039|3479648.92|\n",
      "|     5040|40802810436260000082|2020-11-04|    5040|Клиент 5040|4120756.09|\n",
      "+---------+--------------------+----------+--------+-----------+----------+\n",
      "only showing top 20 rows\n",
      "\n"
     ]
    }
   ],
   "source": [
    "df_corporate_info_20201101=spark.read.parquet(\"corporate_account/CutoffDt=2020-11-01\")\n",
    "df_corporate_info_20201101.show()"
   ]
  }
 ],
 "metadata": {
  "kernelspec": {
   "display_name": "Python 3",
   "language": "python",
   "name": "python3"
  },
  "language_info": {
   "codemirror_mode": {
    "name": "ipython",
    "version": 3
   },
   "file_extension": ".py",
   "mimetype": "text/x-python",
   "name": "python",
   "nbconvert_exporter": "python",
   "pygments_lexer": "ipython3",
   "version": "3.8.8"
  },
  "toc": {
   "base_numbering": 1,
   "nav_menu": {},
   "number_sections": true,
   "sideBar": true,
   "skip_h1_title": false,
   "title_cell": "Table of Contents",
   "title_sidebar": "Contents",
   "toc_cell": true,
   "toc_position": {},
   "toc_section_display": true,
   "toc_window_display": false
  }
 },
 "nbformat": 4,
 "nbformat_minor": 5
}
