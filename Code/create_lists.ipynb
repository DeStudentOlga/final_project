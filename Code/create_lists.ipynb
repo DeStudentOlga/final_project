{
 "cells": [
  {
   "cell_type": "markdown",
   "id": "c902a4bc",
   "metadata": {
    "toc": true
   },
   "source": [
    "<h1>Table of Contents<span class=\"tocSkip\"></span></h1>\n",
    "<div class=\"toc\"><ul class=\"toc-item\"></ul></div>"
   ]
  },
  {
   "cell_type": "markdown",
   "id": "0c518b2e",
   "metadata": {},
   "source": [
    "Импортируем pyspark и нужные библиотеки "
   ]
  },
  {
   "cell_type": "code",
   "execution_count": 1,
   "id": "6e91e20a",
   "metadata": {},
   "outputs": [],
   "source": [
    "import findspark\n",
    "findspark.init('/opt/spark-3.3.1')\n",
    "import pyspark\n",
    "sc = pyspark.SparkContext()"
   ]
  },
  {
   "cell_type": "code",
   "execution_count": 2,
   "id": "582c1a31",
   "metadata": {},
   "outputs": [],
   "source": [
    "from pyspark.sql import SparkSession\n",
    "from pyspark.sql import Row"
   ]
  },
  {
   "cell_type": "markdown",
   "id": "fde58be3",
   "metadata": {},
   "source": [
    "Создаем spark сессию"
   ]
  },
  {
   "cell_type": "code",
   "execution_count": 4,
   "id": "17211872",
   "metadata": {},
   "outputs": [],
   "source": [
    "spark = SparkSession \\\n",
    "    .builder \\\n",
    "    .appName(\"Bank_ini\") \\\n",
    "    .config(\"spark.jars\", \"/opt/spark-3.3.1/jars/postgresql-42.5.1.jar\") \\\n",
    "    .config(\"spark.driver.bindAddress\",\"localhost\") \\\n",
    "    .config(\"spark.ui.port\",\"5432\") \\\n",
    "    .getOrCreate()"
   ]
  },
  {
   "cell_type": "markdown",
   "id": "4243835b",
   "metadata": {},
   "source": [
    "Преобразуем список 1 и сохраняем в БД"
   ]
  },
  {
   "cell_type": "code",
   "execution_count": 5,
   "id": "29488546",
   "metadata": {},
   "outputs": [],
   "source": [
    "s1='%а/м%, %а\\м%, %автомобиль %, %автомобили %, %транспорт%, %трансп%средс%, %легков%, %тягач%, %вин%, %vin%,%viн:%, %fоrd%, %форд%,%кiа%, %кия%, %киа%%мiтsuвisнi%, %мицубиси%, %нissан%, %ниссан%, %sсанiа%, %вмw%, %бмв%, %аudi%, %ауди%, %jеер%, %джип%, %vоlvо%, %вольво%, %тоyота%, %тойота%, %тоиота%, %нyuнdаi%, %хендай%, %rенаulт%, %рено%, %реugеот%, %пежо%, %lаdа%, %лада%, %dатsuн%, %додж%, %меrсеdеs%, %мерседес%, %vоlкswаgен%, %фольксваген%, %sкоdа%, %шкода%, %самосвал%, %rover%, %ровер%'\n",
    "list1=s1.split(',')"
   ]
  },
  {
   "cell_type": "code",
   "execution_count": 6,
   "id": "2632e6bc",
   "metadata": {},
   "outputs": [],
   "source": [
    "columns=[\"id\",\"pattern\"]\n",
    "data=[]\n",
    "for i in range(len(list1)):\n",
    "    data.append((i,list1[i]))\n",
    "df_list1 = spark.createDataFrame(data,columns)"
   ]
  },
  {
   "cell_type": "code",
   "execution_count": 8,
   "id": "fdb86820",
   "metadata": {},
   "outputs": [],
   "source": [
    "df_list1.write.format(\"jdbc\")\\\n",
    "    .option(\"url\", \"jdbc:postgresql://localhost:5432/de_project4\") \\\n",
    "    .option(\"driver\", \"org.postgresql.Driver\").option(\"dbtable\", \"list1\") \\\n",
    "    .option(\"user\", \"postgres\").option(\"password\", \"1\").save()"
   ]
  },
  {
   "cell_type": "markdown",
   "id": "6f2eb8b2",
   "metadata": {},
   "source": [
    "Преобразуем список 2 и сохраняем в БД"
   ]
  },
  {
   "cell_type": "code",
   "execution_count": 9,
   "id": "ba44f4fe",
   "metadata": {},
   "outputs": [],
   "source": [
    "s2='%сою%, %соя%, %зерно%, %кукуруз%, %масло%, %молок%, %молоч%, %мясн%, %мясо%, %овощ%, %подсолн%, %пшениц%, %рис%, %с/х%прод%, %с/х%товар%, %с\\х%прод%, %с\\х%товар%, %сахар%, %сельск%прод%, %сельск%товар%, %сельхоз%прод%, %сельхоз%товар%, %семен%, %семечк%, %сено%, %соев%, %фрукт%, %яиц%, %ячмен%, %картоф%, %томат%, %говя%, %свин%, %курин%, %куриц%, %рыб%, %алко%, %чаи%, %кофе%, %чипс%, %напит%, %бакале%, %конфет%, %колбас%, %морож%, %с/м%, %с\\м%, %консерв%, %пищев%, %питан%, %сыр%, %макарон%, %лосос%, %треск%, %саир%, % филе%, % хек%, %хлеб%, %какао%, %кондитер%, %пиво%, %ликер%'\n",
    "list2=s2.split(',')"
   ]
  },
  {
   "cell_type": "code",
   "execution_count": 10,
   "id": "5b406ead",
   "metadata": {},
   "outputs": [],
   "source": [
    "columns=[\"id\",\"pattern\"]\n",
    "data=[]\n",
    "for i in range(len(list2)):\n",
    "    data.append((i,list2[i]))\n",
    "df_list2 = spark.createDataFrame(data,columns)"
   ]
  },
  {
   "cell_type": "code",
   "execution_count": 11,
   "id": "ed283420",
   "metadata": {},
   "outputs": [],
   "source": [
    "df_list2.write.format(\"jdbc\")\\\n",
    "    .option(\"url\", \"jdbc:postgresql://localhost:5432/de_project4\") \\\n",
    "    .option(\"driver\", \"org.postgresql.Driver\").option(\"dbtable\", \"list2\") \\\n",
    "    .option(\"user\", \"postgres\").option(\"password\", \"1\").save()"
   ]
  }
 ],
 "metadata": {
  "kernelspec": {
   "display_name": "Python 3",
   "language": "python",
   "name": "python3"
  },
  "language_info": {
   "codemirror_mode": {
    "name": "ipython",
    "version": 3
   },
   "file_extension": ".py",
   "mimetype": "text/x-python",
   "name": "python",
   "nbconvert_exporter": "python",
   "pygments_lexer": "ipython3",
   "version": "3.8.8"
  },
  "toc": {
   "base_numbering": 1,
   "nav_menu": {},
   "number_sections": true,
   "sideBar": true,
   "skip_h1_title": false,
   "title_cell": "Table of Contents",
   "title_sidebar": "Contents",
   "toc_cell": true,
   "toc_position": {},
   "toc_section_display": true,
   "toc_window_display": false
  }
 },
 "nbformat": 4,
 "nbformat_minor": 5
}
